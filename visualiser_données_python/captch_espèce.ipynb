{
 "cells": [
  {
   "cell_type": "code",
   "execution_count": 13,
   "metadata": {},
   "outputs": [
    {
     "output_type": "execute_result",
     "data": {
      "text/plain": [
       "array([1950, 1951, 1952, 1953, 1954, 1955, 1956, 1957, 1958, 1959, 1960,\n",
       "       1961, 1962, 1963, 1964, 1965, 1966, 1967, 1968, 1969, 1970, 1971,\n",
       "       1972, 1973, 1974, 1975, 1976, 1977, 1978, 1979, 1980, 1981, 1982,\n",
       "       1983, 1984, 1985, 1986, 1987, 1988, 1989, 1990, 1991, 1992, 1993,\n",
       "       1994, 1995, 1996, 1997, 1998, 1999, 2000, 2001, 2002, 2003, 2004,\n",
       "       2005, 2006, 2007, 2008, 2009, 2010, 2011, 2012, 2013, 2014, 2015,\n",
       "       2016, 2017, 2018])"
      ]
     },
     "metadata": {},
     "execution_count": 13
    }
   ],
   "source": [
    "import pandas as pd\n",
    "import matplotlib.pyplot as plt\n",
    "def figure_catch(ch):\n",
    "    \n",
    "    \n",
    "    data_catch = pd.read_csv('catch(espèce).csv',sep=';',header=0)\n",
    "           \n",
    "    data_catch=data_catch.to_dict()\n",
    "    key=list(data_catch.keys())\n",
    "    def get_index(ch) :\n",
    "        l=[]\n",
    "        for i in range(len(data_catch[key[0]])):\n",
    "            # len de year\n",
    "            if data_catch[key[1]][i]==ch:\n",
    "                # if ch == to latin name\n",
    "                l.append(i)\n",
    "        return l\n",
    "    def get_year(ch) :\n",
    "        j=get_index(ch)\n",
    "        k=[]\n",
    "        for i in j:\n",
    "            k.append(data_catch[key[0]][i])\n",
    "        return k\n",
    "    def get_catch(ch) :\n",
    "        l=get_index(ch)\n",
    "        k=[]\n",
    "        for i in l:\n",
    "            k.append(data_catch[key[2]][i])\n",
    "        return k\n",
    "    l=get_year(ch)\n",
    "    o=get_catch(ch)\n",
    "    \n",
    "    return l,o\n",
    "    \n",
    "year,catch=figure_catch('Epinephelus')   \n",
    "y=year\n",
    "pd.unique(y)\n",
    "\n"
   ]
  },
  {
   "cell_type": "code",
   "execution_count": 16,
   "metadata": {},
   "outputs": [
    {
     "data": {
      "text/plain": [
       "['year', 'scientific_name', 'Landed value (tonnes)']"
      ]
     },
     "execution_count": 16,
     "metadata": {},
     "output_type": "execute_result"
    }
   ],
   "source": [
    "import numpy as np\n",
    "import pandas as pd\n",
    "import matplotlib.pyplot as plt\n",
    "data_catch = pd.read_csv('catch(espèce).csv',sep=';',header=0)\n",
    "           \n",
    "data_catch=data_catch.to_dict()\n",
    "key=list(data_catch.keys())\n"
   ]
  },
  {
   "cell_type": "code",
   "execution_count": null,
   "metadata": {},
   "outputs": [],
   "source": []
  }
 ],
 "metadata": {
  "kernelspec": {
   "name": "python392jvsc74a57bd0639f361ad657fd45530bdd3e74f62afebc8edc35ba6ab7eef1042ba440bc9585",
   "display_name": "Python 3.9.2 64-bit"
  },
  "language_info": {
   "codemirror_mode": {
    "name": "ipython",
    "version": 3
   },
   "file_extension": ".py",
   "mimetype": "text/x-python",
   "name": "python",
   "nbconvert_exporter": "python",
   "pygments_lexer": "ipython3",
   "version": "3.9.2-final"
  }
 },
 "nbformat": 4,
 "nbformat_minor": 4
}