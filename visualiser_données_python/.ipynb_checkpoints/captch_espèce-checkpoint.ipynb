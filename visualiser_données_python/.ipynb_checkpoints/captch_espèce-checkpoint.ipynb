{
 "cells": [
  {
   "cell_type": "code",
   "execution_count": 18,
   "metadata": {},
   "outputs": [
    {
     "ename": "NameError",
     "evalue": "name 'l' is not defined",
     "output_type": "error",
     "traceback": [
      "\u001b[1;31m---------------------------------------------------------------------------\u001b[0m",
      "\u001b[1;31mNameError\u001b[0m                                 Traceback (most recent call last)",
      "\u001b[1;32m<ipython-input-18-b2bca429cdda>\u001b[0m in \u001b[0;36m<module>\u001b[1;34m\u001b[0m\n\u001b[0;32m     33\u001b[0m     \u001b[1;32mreturn\u001b[0m \u001b[0ml\u001b[0m\u001b[1;33m,\u001b[0m\u001b[0mo\u001b[0m\u001b[1;33m\u001b[0m\u001b[1;33m\u001b[0m\u001b[0m\n\u001b[0;32m     34\u001b[0m \u001b[1;33m\u001b[0m\u001b[0m\n\u001b[1;32m---> 35\u001b[1;33m \u001b[0mfigure_catch\u001b[0m\u001b[1;33m(\u001b[0m\u001b[1;34m'Epinephelus'\u001b[0m\u001b[1;33m)\u001b[0m\u001b[1;33m\u001b[0m\u001b[1;33m\u001b[0m\u001b[0m\n\u001b[0m",
      "\u001b[1;32m<ipython-input-18-b2bca429cdda>\u001b[0m in \u001b[0;36mfigure_catch\u001b[1;34m(ch)\u001b[0m\n\u001b[0;32m     31\u001b[0m \u001b[1;33m\u001b[0m\u001b[0m\n\u001b[0;32m     32\u001b[0m \u001b[1;33m\u001b[0m\u001b[0m\n\u001b[1;32m---> 33\u001b[1;33m     \u001b[1;32mreturn\u001b[0m \u001b[0ml\u001b[0m\u001b[1;33m,\u001b[0m\u001b[0mo\u001b[0m\u001b[1;33m\u001b[0m\u001b[1;33m\u001b[0m\u001b[0m\n\u001b[0m\u001b[0;32m     34\u001b[0m \u001b[1;33m\u001b[0m\u001b[0m\n\u001b[0;32m     35\u001b[0m \u001b[0mfigure_catch\u001b[0m\u001b[1;33m(\u001b[0m\u001b[1;34m'Epinephelus'\u001b[0m\u001b[1;33m)\u001b[0m\u001b[1;33m\u001b[0m\u001b[1;33m\u001b[0m\u001b[0m\n",
      "\u001b[1;31mNameError\u001b[0m: name 'l' is not defined"
     ]
    }
   ],
   "source": [
    "def figure_catch(ch):\n",
    "    import numpy as np\n",
    "    import pandas as pd\n",
    "    import matplotlib.pyplot as plt\n",
    "    \n",
    "    data_catch = pd.read_csv('catch(espèce).csv',sep=';',header=0)\n",
    "           \n",
    "    data_catch=data_catch.to_dict()\n",
    "    key=list(data_catch.keys())\n",
    "    \n",
    "    def get_index(ch) :\n",
    "        l=[]\n",
    "        for i in range(len(data_catch[key[0]])):\n",
    "            if data_catch[key[1]][i]==ch:\n",
    "                l.append(i)\n",
    "        return l\n",
    "    \n",
    "    def get_year(ch) :\n",
    "        j=get_index(ch)\n",
    "        k=[]\n",
    "        for i in j:\n",
    "            k.append(data_catch[key[0]][i])\n",
    "        return k\n",
    "    \n",
    "    def get_catch(ch) :\n",
    "        l=get_index(ch)\n",
    "        k=[]\n",
    "        for i in l:\n",
    "            k.append(data_catch[key[2]][i])\n",
    "        return k\n",
    "    \n",
    "    l=get_year(ch)\n",
    "    o=get_catch(ch)\n",
    "    \n",
    "    return l,o\n",
    "    \n",
    "figure_catch('Epinephelus')    "
   ]
  },
  {
   "cell_type": "code",
   "execution_count": 16,
   "metadata": {},
   "outputs": [
    {
     "data": {
      "text/plain": [
       "['year', 'scientific_name', 'Landed value (tonnes)']"
      ]
     },
     "execution_count": 16,
     "metadata": {},
     "output_type": "execute_result"
    }
   ],
   "source": [
    "import numpy as np\n",
    "import pandas as pd\n",
    "import matplotlib.pyplot as plt\n",
    "data_catch = pd.read_csv('catch(espèce).csv',sep=';',header=0)\n",
    "           \n",
    "data_catch=data_catch.to_dict()\n",
    "key=list(data_catch.keys())\n"
   ]
  },
  {
   "cell_type": "code",
   "execution_count": null,
   "metadata": {},
   "outputs": [],
   "source": []
  }
 ],
 "metadata": {
  "kernelspec": {
   "display_name": "Python 3",
   "language": "python",
   "name": "python3"
  },
  "language_info": {
   "codemirror_mode": {
    "name": "ipython",
    "version": 3
   },
   "file_extension": ".py",
   "mimetype": "text/x-python",
   "name": "python",
   "nbconvert_exporter": "python",
   "pygments_lexer": "ipython3",
   "version": "3.7.6"
  }
 },
 "nbformat": 4,
 "nbformat_minor": 4
}
