{
 "cells": [
  {
   "cell_type": "code",
   "execution_count": 1,
   "metadata": {},
   "outputs": [],
   "source": [
    "import numpy as np\n",
    "import pandas as pd\n",
    "import matplotlib.pyplot as plt\n"
   ]
  },
  {
   "cell_type": "code",
   "execution_count": 10,
   "metadata": {},
   "outputs": [],
   "source": [
    "data_catch = pd.read_csv('Mogador MPA data(catch).csv',sep=';',header=0)"
   ]
  },
  {
   "cell_type": "code",
   "execution_count": 11,
   "metadata": {},
   "outputs": [
    {
     "data": {
      "text/html": [
       "<div>\n",
       "<style scoped>\n",
       "    .dataframe tbody tr th:only-of-type {\n",
       "        vertical-align: middle;\n",
       "    }\n",
       "\n",
       "    .dataframe tbody tr th {\n",
       "        vertical-align: top;\n",
       "    }\n",
       "\n",
       "    .dataframe thead th {\n",
       "        text-align: right;\n",
       "    }\n",
       "</style>\n",
       "<table border=\"1\" class=\"dataframe\">\n",
       "  <thead>\n",
       "    <tr style=\"text-align: right;\">\n",
       "      <th></th>\n",
       "      <th>year</th>\n",
       "      <th>functional_group</th>\n",
       "      <th>Landed value (tonnes)</th>\n",
       "    </tr>\n",
       "  </thead>\n",
       "  <tbody>\n",
       "    <tr>\n",
       "      <th>0</th>\n",
       "      <td>1950</td>\n",
       "      <td>Other demersal invertebrates</td>\n",
       "      <td>70,6401</td>\n",
       "    </tr>\n",
       "    <tr>\n",
       "      <th>1</th>\n",
       "      <td>1950</td>\n",
       "      <td>Large sharks (&gt;=90 cm)</td>\n",
       "      <td>282,5604</td>\n",
       "    </tr>\n",
       "    <tr>\n",
       "      <th>2</th>\n",
       "      <td>1950</td>\n",
       "      <td>Other demersal invertebrates</td>\n",
       "      <td>282,5604</td>\n",
       "    </tr>\n",
       "    <tr>\n",
       "      <th>3</th>\n",
       "      <td>1950</td>\n",
       "      <td>Other demersal invertebrates</td>\n",
       "      <td>253,5456</td>\n",
       "    </tr>\n",
       "    <tr>\n",
       "      <th>4</th>\n",
       "      <td>1950</td>\n",
       "      <td>Large pelagics (&gt;=90 cm)</td>\n",
       "      <td>1059,6015</td>\n",
       "    </tr>\n",
       "    <tr>\n",
       "      <th>...</th>\n",
       "      <td>...</td>\n",
       "      <td>...</td>\n",
       "      <td>...</td>\n",
       "    </tr>\n",
       "    <tr>\n",
       "      <th>2844</th>\n",
       "      <td>2018</td>\n",
       "      <td>Lobsters, crabs</td>\n",
       "      <td>18,0931563</td>\n",
       "    </tr>\n",
       "    <tr>\n",
       "      <th>2845</th>\n",
       "      <td>2018</td>\n",
       "      <td>Lobsters, crabs</td>\n",
       "      <td>3,877104925</td>\n",
       "    </tr>\n",
       "    <tr>\n",
       "      <th>2846</th>\n",
       "      <td>2018</td>\n",
       "      <td>Other demersal invertebrates</td>\n",
       "      <td>33,41589297</td>\n",
       "    </tr>\n",
       "    <tr>\n",
       "      <th>2847</th>\n",
       "      <td>2018</td>\n",
       "      <td>Other demersal invertebrates</td>\n",
       "      <td>20,639228</td>\n",
       "    </tr>\n",
       "    <tr>\n",
       "      <th>2848</th>\n",
       "      <td>2018</td>\n",
       "      <td>Other demersal invertebrates</td>\n",
       "      <td>13,75948533</td>\n",
       "    </tr>\n",
       "  </tbody>\n",
       "</table>\n",
       "<p>2849 rows × 3 columns</p>\n",
       "</div>"
      ],
      "text/plain": [
       "      year              functional_group Landed value (tonnes)\n",
       "0     1950  Other demersal invertebrates               70,6401\n",
       "1     1950        Large sharks (>=90 cm)              282,5604\n",
       "2     1950  Other demersal invertebrates              282,5604\n",
       "3     1950  Other demersal invertebrates              253,5456\n",
       "4     1950      Large pelagics (>=90 cm)             1059,6015\n",
       "...    ...                           ...                   ...\n",
       "2844  2018               Lobsters, crabs            18,0931563\n",
       "2845  2018               Lobsters, crabs           3,877104925\n",
       "2846  2018  Other demersal invertebrates           33,41589297\n",
       "2847  2018  Other demersal invertebrates             20,639228\n",
       "2848  2018  Other demersal invertebrates           13,75948533\n",
       "\n",
       "[2849 rows x 3 columns]"
      ]
     },
     "execution_count": 11,
     "metadata": {},
     "output_type": "execute_result"
    }
   ],
   "source": [
    "data_catch"
   ]
  },
  {
   "cell_type": "code",
   "execution_count": 12,
   "metadata": {},
   "outputs": [],
   "source": [
    "L=['(>=90)','(30-89cm)','(<30cm)','(<90cm)']\n"
   ]
  },
  {
   "cell_type": "code",
   "execution_count": null,
   "metadata": {},
   "outputs": [],
   "source": []
  }
 ],
 "metadata": {
  "kernelspec": {
   "display_name": "Python 3",
   "language": "python",
   "name": "python3"
  },
  "language_info": {
   "codemirror_mode": {
    "name": "ipython",
    "version": 3
   },
   "file_extension": ".py",
   "mimetype": "text/x-python",
   "name": "python",
   "nbconvert_exporter": "python",
   "pygments_lexer": "ipython3",
   "version": "3.7.6"
  }
 },
 "nbformat": 4,
 "nbformat_minor": 4
}
