{
 "cells": [
  {
   "cell_type": "code",
   "execution_count": null,
   "metadata": {},
   "outputs": [],
   "source": []
  },
  {
   "cell_type": "code",
   "execution_count": 69,
   "metadata": {},
   "outputs": [],
   "source": [
    "def biomasse_pelagic(ch):\n",
    "    import numpy as np\n",
    "    import pandas as pd\n",
    "    import matplotlib.pyplot as plt\n",
    "    data_biomass_pelagic = pd.read_csv('Biomass for small pelagic species.csv',sep=';',header=0)\n",
    "    data_biomass_pelagic=data_biomass_pelagic.to_dict()\n",
    "    l=list(data_biomass_pelagic.keys())  \n",
    "    def get_index(ch) :\n",
    "        y=[]\n",
    "        for i in range(len(data_biomass_pelagic[l[0]])):\n",
    "            if data_biomass_pelagic[l[0]][i]==ch:\n",
    "                y.append(i)\n",
    "        return y\n",
    "    \n",
    "    k=get_index(ch)\n",
    "    t=k[0]\n",
    "    e=[]\n",
    "    r=[]\n",
    "    indice=[]\n",
    "    for i in l[1:]:\n",
    "        e.append(data_biomass_pelagic[i][t])\n",
    "        r.append(int(i))\n",
    "\n",
    "    for i in range(len(e)) :\n",
    "        if e[i]!='-':\n",
    "            indice.append(i)\n",
    "    E=[]\n",
    "    R=[]\n",
    "    for j in indice:\n",
    "        E.append(int(e[j]))\n",
    "        R.append(int(r[j]))\n",
    "    \n",
    "    plt.figure(figsize=(8,6))\n",
    "    plt.plot(R,E,c='red',label=ch)\n",
    "    plt.title(\"analyse de biomasse\")\n",
    "    plt.xlabel(\"Années\")\n",
    "    plt.ylabel(\"Biomasse (tonnes/km²)\")\n",
    "    plt.legend()\n",
    "    plt.show()"
   ]
  },
  {
   "cell_type": "code",
   "execution_count": 76,
   "metadata": {},
   "outputs": [
    {
     "data": {
      "image/png": "[encoded data removed]",
      "text/plain": [
       "<Figure size 576x432 with 1 Axes>"
      ]
     },
     "metadata": {
      "needs_background": "light"
     },
     "output_type": "display_data"
    }
   ],
   "source": [
    "biomasse_pelagic('Sardina pilchardus')"
   ]
  },
  {
   "cell_type": "code",
   "execution_count": null,
   "metadata": {},
   "outputs": [],
   "source": []
  },
  {
   "cell_type": "code",
   "execution_count": null,
   "metadata": {},
   "outputs": [],
   "source": []
  },
  {
   "cell_type": "code",
   "execution_count": null,
   "metadata": {},
   "outputs": [],
   "source": []
  },
  {
   "cell_type": "code",
   "execution_count": null,
   "metadata": {},
   "outputs": [],
   "source": []
  },
  {
   "cell_type": "code",
   "execution_count": 68,
   "metadata": {},
   "outputs": [
    {
     "data": {
      "text/html": [
       "<div>\n",
       "<style scoped>\n",
       "    .dataframe tbody tr th:only-of-type {\n",
       "        vertical-align: middle;\n",
       "    }\n",
       "\n",
       "    .dataframe tbody tr th {\n",
       "        vertical-align: top;\n",
       "    }\n",
       "\n",
       "    .dataframe thead th {\n",
       "        text-align: right;\n",
       "    }\n",
       "</style>\n",
       "<table border=\"1\" class=\"dataframe\">\n",
       "  <thead>\n",
       "    <tr style=\"text-align: right;\">\n",
       "      <th></th>\n",
       "      <th>Species name (Latin name)</th>\n",
       "      <th>1994</th>\n",
       "      <th>1995</th>\n",
       "      <th>1996</th>\n",
       "      <th>1997</th>\n",
       "      <th>1998</th>\n",
       "      <th>1999</th>\n",
       "      <th>2000</th>\n",
       "      <th>2001</th>\n",
       "      <th>2002</th>\n",
       "      <th>...</th>\n",
       "      <th>2008</th>\n",
       "      <th>2009</th>\n",
       "      <th>2010</th>\n",
       "      <th>2011</th>\n",
       "      <th>2012</th>\n",
       "      <th>2013</th>\n",
       "      <th>2014</th>\n",
       "      <th>2015</th>\n",
       "      <th>2016</th>\n",
       "      <th>2017</th>\n",
       "    </tr>\n",
       "  </thead>\n",
       "  <tbody>\n",
       "    <tr>\n",
       "      <th>0</th>\n",
       "      <td>Scomber colias</td>\n",
       "      <td>-</td>\n",
       "      <td>-</td>\n",
       "      <td>-</td>\n",
       "      <td>-</td>\n",
       "      <td>-</td>\n",
       "      <td>-</td>\n",
       "      <td>-</td>\n",
       "      <td>-</td>\n",
       "      <td>-</td>\n",
       "      <td>...</td>\n",
       "      <td>650</td>\n",
       "      <td>1000</td>\n",
       "      <td>400</td>\n",
       "      <td>410</td>\n",
       "      <td>540</td>\n",
       "      <td>1000</td>\n",
       "      <td>1100</td>\n",
       "      <td>1430</td>\n",
       "      <td>1600</td>\n",
       "      <td>1098</td>\n",
       "    </tr>\n",
       "    <tr>\n",
       "      <th>1</th>\n",
       "      <td>Engraulis encrasicolus</td>\n",
       "      <td>-</td>\n",
       "      <td>-</td>\n",
       "      <td>-</td>\n",
       "      <td>-</td>\n",
       "      <td>-</td>\n",
       "      <td>-</td>\n",
       "      <td>115</td>\n",
       "      <td>8</td>\n",
       "      <td>36</td>\n",
       "      <td>...</td>\n",
       "      <td>74</td>\n",
       "      <td>52</td>\n",
       "      <td>135</td>\n",
       "      <td>158</td>\n",
       "      <td>61</td>\n",
       "      <td>35</td>\n",
       "      <td>-</td>\n",
       "      <td>-</td>\n",
       "      <td>-</td>\n",
       "      <td>-</td>\n",
       "    </tr>\n",
       "    <tr>\n",
       "      <th>2</th>\n",
       "      <td>Sardina pilchardus</td>\n",
       "      <td>998000</td>\n",
       "      <td>2500000</td>\n",
       "      <td>1000000</td>\n",
       "      <td>800000</td>\n",
       "      <td>330000</td>\n",
       "      <td>300000</td>\n",
       "      <td>-</td>\n",
       "      <td>-</td>\n",
       "      <td>-</td>\n",
       "      <td>...</td>\n",
       "      <td>-</td>\n",
       "      <td>-</td>\n",
       "      <td>-</td>\n",
       "      <td>-</td>\n",
       "      <td>-</td>\n",
       "      <td>-</td>\n",
       "      <td>-</td>\n",
       "      <td>-</td>\n",
       "      <td>-</td>\n",
       "      <td>-</td>\n",
       "    </tr>\n",
       "  </tbody>\n",
       "</table>\n",
       "<p>3 rows × 25 columns</p>\n",
       "</div>"
      ],
      "text/plain": [
       "  Species name (Latin name)    1994     1995     1996    1997    1998    1999  \\\n",
       "0            Scomber colias       -        -        -       -       -       -   \n",
       "1    Engraulis encrasicolus       -        -        -       -       -       -   \n",
       "2        Sardina pilchardus  998000  2500000  1000000  800000  330000  300000   \n",
       "\n",
       "  2000 2001 2002  ... 2008  2009 2010 2011 2012  2013  2014  2015  2016  2017  \n",
       "0    -    -    -  ...  650  1000  400  410  540  1000  1100  1430  1600  1098  \n",
       "1  115    8   36  ...   74    52  135  158   61    35     -     -     -     -  \n",
       "2    -    -    -  ...    -     -    -    -    -     -     -     -     -     -  \n",
       "\n",
       "[3 rows x 25 columns]"
      ]
     },
     "execution_count": 68,
     "metadata": {},
     "output_type": "execute_result"
    }
   ],
   "source": [
    "import numpy as np\n",
    "import pandas as pd\n",
    "import matplotlib.pyplot as plt\n",
    "data_biomass_pelagic = pd.read_csv('Biomass for small pelagic species.csv',sep=';',header=0)\n",
    "data_biomass_pelagic"
   ]
  },
  {
   "cell_type": "code",
   "execution_count": null,
   "metadata": {},
   "outputs": [],
   "source": []
  },
  {
   "cell_type": "code",
   "execution_count": null,
   "metadata": {},
   "outputs": [],
   "source": []
  }
 ],
 "metadata": {
  "kernelspec": {
   "display_name": "Python 3",
   "language": "python",
   "name": "python3"
  },
  "language_info": {
   "codemirror_mode": {
    "name": "ipython",
    "version": 3
   },
   "file_extension": ".py",
   "mimetype": "text/x-python",
   "name": "python",
   "nbconvert_exporter": "python",
   "pygments_lexer": "ipython3",
   "version": "3.7.6"
  }
 },
 "nbformat": 4,
 "nbformat_minor": 4
}
