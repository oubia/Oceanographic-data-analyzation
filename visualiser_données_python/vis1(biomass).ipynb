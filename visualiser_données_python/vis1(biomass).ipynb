{
 "cells": [
  {
   "cell_type": "code",
   "execution_count": null,
   "metadata": {},
   "outputs": [],
   "source": []
  },
  {
   "cell_type": "code",
   "execution_count": 3,
   "metadata": {},
   "outputs": [],
   "source": [
    "def figure_biomass(ch):\n",
    "    import numpy as np\n",
    "    import pandas as pd\n",
    "    import matplotlib.pyplot as plt\n",
    "    data_biomass = pd.read_csv('Mogador MPA data(biomass).csv',sep=';',header=0)\n",
    "    \n",
    "    def moyenne(ch):\n",
    "        ch=ch.split(\"-\")\n",
    "        m=(float(ch[0])+float(ch[1]))/2\n",
    "        return m\n",
    "\n",
    "    for i in range(1950,2015):\n",
    "        i=str(i)\n",
    "        for j in range(151):\n",
    "            data_biomass[i][j]=moyenne(data_biomass[i][j])\n",
    "            \n",
    "            \n",
    "    data_biomass=data_biomass.to_dict()\n",
    "\n",
    "    def get_index(ch) :\n",
    "        l=[]\n",
    "        for i in range(151):\n",
    "            if data_biomass['Functional group'][i]==ch:\n",
    "                l.append(i)\n",
    "        return l\n",
    "    \n",
    "    k=get_index(ch)\n",
    "    t=k[0]\n",
    "    e=[]\n",
    "    r=[]\n",
    "    for i in range(1950,2015):\n",
    "        i=str(i)\n",
    "        e.append(data_biomass[i][t])\n",
    "        r.append(int(i))\n",
    "        \n",
    "    plt.figure(figsize=(8,6))\n",
    "    plt.plot(r,e,c='red',label=ch)\n",
    "    plt.title(\"analyse de biomass\")\n",
    "    plt.xlabel(\"Années\")\n",
    "    plt.ylabel(\"Biomass (tonnes)\")\n",
    "    plt.legend()\n",
    "    plt.show()\n",
    "\n",
    "        \n",
    "        "
   ]
  },
  {
   "cell_type": "code",
   "execution_count": 2,
   "metadata": {},
   "outputs": [
    {
     "data": {
      "image/png": "[encoded data removed]",
      "text/plain": [
       "<Figure size 576x432 with 1 Axes>"
      ]
     },
     "metadata": {
      "needs_background": "light"
     },
     "output_type": "display_data"
    }
   ],
   "source": [
    "figure_biomass('Cephalopods')\n",
    "    "
   ]
  },
  {
   "cell_type": "code",
   "execution_count": null,
   "metadata": {},
   "outputs": [],
   "source": []
  },
  {
   "cell_type": "code",
   "execution_count": null,
   "metadata": {},
   "outputs": [],
   "source": []
  },
  {
   "cell_type": "code",
   "execution_count": null,
   "metadata": {},
   "outputs": [],
   "source": []
  },
  {
   "cell_type": "code",
   "execution_count": null,
   "metadata": {},
   "outputs": [],
   "source": []
  },
  {
   "cell_type": "code",
   "execution_count": null,
   "metadata": {},
   "outputs": [],
   "source": []
  },
  {
   "cell_type": "code",
   "execution_count": null,
   "metadata": {},
   "outputs": [],
   "source": []
  },
  {
   "cell_type": "code",
   "execution_count": null,
   "metadata": {},
   "outputs": [],
   "source": []
  },
  {
   "cell_type": "code",
   "execution_count": null,
   "metadata": {},
   "outputs": [],
   "source": []
  },
  {
   "cell_type": "code",
   "execution_count": null,
   "metadata": {},
   "outputs": [],
   "source": []
  }
 ],
 "metadata": {
  "kernelspec": {
   "display_name": "Python 3",
   "language": "python",
   "name": "python3"
  },
  "language_info": {
   "codemirror_mode": {
    "name": "ipython",
    "version": 3
   },
   "file_extension": ".py",
   "mimetype": "text/x-python",
   "name": "python",
   "nbconvert_exporter": "python",
   "pygments_lexer": "ipython3",
   "version": "3.7.6"
  }
 },
 "nbformat": 4,
 "nbformat_minor": 4
}
